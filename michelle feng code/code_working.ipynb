{
 "cells": [
  {
   "cell_type": "markdown",
   "metadata": {},
   "source": [
    "### Testing the feng code with test precinct data"
   ]
  },
  {
   "cell_type": "code",
   "execution_count": 8,
   "metadata": {},
   "outputs": [],
   "source": [
    "import numpy as np\n"
   ]
  },
  {
   "cell_type": "code",
   "execution_count": 1,
   "metadata": {},
   "outputs": [],
   "source": [
    "def lower_neighbors(adjacencies, vertex):\n",
    "    return [v for v in adjacencies[vertex] if v < vertex]"
   ]
  },
  {
   "cell_type": "code",
   "execution_count": 2,
   "metadata": {},
   "outputs": [],
   "source": [
    "def incremental_vr(V, adjacencies, maxDimension):\n",
    "    Vnew = list(V)\n",
    "    for vertex in np.arange(len(adjacencies)):\n",
    "        N = sorted(lower_neighbors(adjacencies, vertex))\n",
    "        add_cofaces(adjacencies, maxDimension, [vertex], N, Vnew)\n",
    "    return Vnew"
   ]
  },
  {
   "cell_type": "code",
   "execution_count": 3,
   "metadata": {},
   "outputs": [],
   "source": [
    "def add_cofaces(adjacencies, maxDimension, face, N, V):\n",
    "    if sorted(face) not in V:\n",
    "        V.append(sorted(face))\n",
    "    if len(face) >= maxDimension:\n",
    "        return\n",
    "    else:\n",
    "        for vertex in N:\n",
    "            coface = list(face)\n",
    "            coface.append(vertex)\n",
    "            M = list(set(N) & set(lower_neighbors(adjacencies, vertex)))\n",
    "            add_cofaces(adjacencies, maxDimension, coface, M, V)"
   ]
  },
  {
   "cell_type": "code",
   "execution_count": 4,
   "metadata": {},
   "outputs": [],
   "source": [
    "def replace_face(V):\n",
    "    Vnew = []\n",
    "    for face in V:\n",
    "        if len(face) == 1:\n",
    "            Vnew.append([len(Vnew)])\n",
    "        else:\n",
    "            Vnew_face = []\n",
    "            for vertexIdx in np.arange(len(face)):\n",
    "                subface = list(face)\n",
    "                subface.pop(vertexIdx)\n",
    "                subfaceIdx = V.index(subface)\n",
    "                Vnew_face.append(subfaceIdx)\n",
    "            Vnew.append(sorted(Vnew_face))\n",
    "    return Vnew"
   ]
  },
  {
   "cell_type": "code",
   "execution_count": null,
   "metadata": {},
   "outputs": [],
   "source": []
  },
  {
   "cell_type": "markdown",
   "metadata": {},
   "source": [
    "#### Now let's create the test data"
   ]
  },
  {
   "cell_type": "code",
   "execution_count": 5,
   "metadata": {},
   "outputs": [],
   "source": [
    "precinct_list = [\n",
    "    [0, [1, 2, 3], \"0.75\"],\n",
    "    [1, [0, 2], \"0.5\"],\n",
    "    [2, [0, 1, 3], \"0.9\"],\n",
    "    [3, [0, 2], \"0.6\"]\n",
    "]"
   ]
  },
  {
   "cell_type": "markdown",
   "metadata": {},
   "source": [
    "#### Computing the form_simplicial_complex method step by step"
   ]
  },
  {
   "cell_type": "code",
   "execution_count": 6,
   "metadata": {},
   "outputs": [],
   "source": [
    "adjacencies = list(map(lambda m: m[1], precinct_list))"
   ]
  },
  {
   "cell_type": "code",
   "execution_count": null,
   "metadata": {},
   "outputs": [],
   "source": []
  },
  {
   "cell_type": "code",
   "execution_count": 7,
   "metadata": {},
   "outputs": [
    {
     "data": {
      "text/plain": [
       "[[1, 2, 3], [0, 2], [0, 1, 3], [0, 2]]"
      ]
     },
     "execution_count": 7,
     "metadata": {},
     "output_type": "execute_result"
    }
   ],
   "source": [
    "adjacencies"
   ]
  },
  {
   "cell_type": "code",
   "execution_count": 9,
   "metadata": {},
   "outputs": [],
   "source": [
    "preferences = np.asarray(list(map(lambda m: float(m[2]), precinct_list)))"
   ]
  },
  {
   "cell_type": "code",
   "execution_count": 10,
   "metadata": {},
   "outputs": [
    {
     "data": {
      "text/plain": [
       "array([0.75, 0.5 , 0.9 , 0.6 ])"
      ]
     },
     "execution_count": 10,
     "metadata": {},
     "output_type": "execute_result"
    }
   ],
   "source": [
    "preferences"
   ]
  },
  {
   "cell_type": "code",
   "execution_count": 11,
   "metadata": {},
   "outputs": [],
   "source": [
    "V = []"
   ]
  },
  {
   "cell_type": "code",
   "execution_count": 12,
   "metadata": {},
   "outputs": [],
   "source": [
    "V = incremental_vr(V, adjacencies, 3)"
   ]
  },
  {
   "cell_type": "code",
   "execution_count": 13,
   "metadata": {},
   "outputs": [
    {
     "data": {
      "text/plain": [
       "[[0],\n",
       " [1],\n",
       " [0, 1],\n",
       " [2],\n",
       " [0, 2],\n",
       " [1, 2],\n",
       " [0, 1, 2],\n",
       " [3],\n",
       " [0, 3],\n",
       " [2, 3],\n",
       " [0, 2, 3]]"
      ]
     },
     "execution_count": 13,
     "metadata": {},
     "output_type": "execute_result"
    }
   ],
   "source": [
    "V"
   ]
  },
  {
   "cell_type": "code",
   "execution_count": 14,
   "metadata": {},
   "outputs": [],
   "source": [
    "entryTimes = np.floor((1 - np.abs(preferences)) * 100 / 5)"
   ]
  },
  {
   "cell_type": "code",
   "execution_count": 15,
   "metadata": {},
   "outputs": [
    {
     "data": {
      "text/plain": [
       "array([ 5., 10.,  1.,  8.])"
      ]
     },
     "execution_count": 15,
     "metadata": {},
     "output_type": "execute_result"
    }
   ],
   "source": [
    "entryTimes"
   ]
  },
  {
   "cell_type": "code",
   "execution_count": 16,
   "metadata": {},
   "outputs": [],
   "source": [
    "entryTimesSub = [entryTimes[max(simplex) - 1] for simplex in V]"
   ]
  },
  {
   "cell_type": "code",
   "execution_count": 17,
   "metadata": {},
   "outputs": [
    {
     "data": {
      "text/plain": [
       "[8.0, 5.0, 5.0, 10.0, 10.0, 10.0, 10.0, 1.0, 1.0, 1.0, 1.0]"
      ]
     },
     "execution_count": 17,
     "metadata": {},
     "output_type": "execute_result"
    }
   ],
   "source": [
    "entryTimesSub"
   ]
  },
  {
   "cell_type": "code",
   "execution_count": 18,
   "metadata": {},
   "outputs": [],
   "source": [
    "phatFormatV = replace_face(V)"
   ]
  },
  {
   "cell_type": "code",
   "execution_count": 19,
   "metadata": {},
   "outputs": [
    {
     "data": {
      "text/plain": [
       "[[0],\n",
       " [1],\n",
       " [0, 1],\n",
       " [3],\n",
       " [0, 3],\n",
       " [1, 3],\n",
       " [2, 4, 5],\n",
       " [7],\n",
       " [0, 7],\n",
       " [3, 7],\n",
       " [4, 8, 9]]"
      ]
     },
     "execution_count": 19,
     "metadata": {},
     "output_type": "execute_result"
    }
   ],
   "source": [
    "phatFormatV"
   ]
  },
  {
   "cell_type": "code",
   "execution_count": null,
   "metadata": {},
   "outputs": [],
   "source": []
  }
 ],
 "metadata": {
  "kernelspec": {
   "display_name": "TDA",
   "language": "python",
   "name": "python3"
  },
  "language_info": {
   "codemirror_mode": {
    "name": "ipython",
    "version": 3
   },
   "file_extension": ".py",
   "mimetype": "text/x-python",
   "name": "python",
   "nbconvert_exporter": "python",
   "pygments_lexer": "ipython3",
   "version": "3.11.4"
  }
 },
 "nbformat": 4,
 "nbformat_minor": 2
}
