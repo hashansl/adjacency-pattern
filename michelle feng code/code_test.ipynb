{
 "cells": [
  {
   "cell_type": "code",
   "execution_count": null,
   "metadata": {},
   "outputs": [],
   "source": []
  },
  {
   "cell_type": "markdown",
   "metadata": {},
   "source": []
  },
  {
   "cell_type": "code",
   "execution_count": 2,
   "metadata": {},
   "outputs": [],
   "source": [
    "import csv\n",
    "import numpy as np\n",
    "import time"
   ]
  },
  {
   "cell_type": "code",
   "execution_count": 3,
   "metadata": {},
   "outputs": [],
   "source": [
    "# Invr"
   ]
  },
  {
   "cell_type": "code",
   "execution_count": 4,
   "metadata": {},
   "outputs": [],
   "source": [
    "def lower_neighbors(adjacencies, vertex):\n",
    "    return [v for v in adjacencies[vertex] if v < vertex]"
   ]
  },
  {
   "cell_type": "code",
   "execution_count": 5,
   "metadata": {},
   "outputs": [],
   "source": [
    "def incremental_vr(V, adjacencies, maxDimension):\n",
    "    Vnew = list(V)\n",
    "    for vertex in np.arange(len(adjacencies)):\n",
    "        N = sorted(lower_neighbors(adjacencies, vertex))\n",
    "        add_cofaces(adjacencies, maxDimension, [vertex], N, Vnew)\n",
    "    return Vnew"
   ]
  },
  {
   "cell_type": "code",
   "execution_count": 6,
   "metadata": {},
   "outputs": [],
   "source": [
    "def add_cofaces(adjacencies, maxDimension, face, N, V):\n",
    "    if sorted(face) not in V:\n",
    "        V.append(sorted(face))\n",
    "    if len(face) >= maxDimension:\n",
    "        return\n",
    "    else:\n",
    "        for vertex in N:\n",
    "            coface = list(face)\n",
    "            coface.append(vertex)\n",
    "            M = list(set(N) & set(lower_neighbors(adjacencies, vertex)))\n",
    "            add_cofaces(adjacencies, maxDimension, coface, M, V)\n"
   ]
  },
  {
   "cell_type": "code",
   "execution_count": 7,
   "metadata": {},
   "outputs": [],
   "source": [
    "\n",
    "def replace_face(V):\n",
    "    Vnew = []\n",
    "    for face in V:\n",
    "        if len(face) == 1:\n",
    "            Vnew.append([len(Vnew)])\n",
    "        else:\n",
    "            Vnew_face = []\n",
    "            for vertexIdx in np.arange(len(face)):\n",
    "                subface = list(face)\n",
    "                subface.pop(vertexIdx)\n",
    "                subfaceIdx = V.index(subface)\n",
    "                Vnew_face.append(subfaceIdx)\n",
    "            Vnew.append(sorted(Vnew_face))\n",
    "    return Vnew"
   ]
  },
  {
   "cell_type": "code",
   "execution_count": null,
   "metadata": {},
   "outputs": [],
   "source": []
  },
  {
   "cell_type": "code",
   "execution_count": 8,
   "metadata": {},
   "outputs": [],
   "source": [
    "#Main"
   ]
  },
  {
   "cell_type": "code",
   "execution_count": 9,
   "metadata": {},
   "outputs": [],
   "source": [
    "def split_precincts(county_csv, split_key, header=True):\n",
    "    hillary_list = []\n",
    "    trump_list = []\n",
    "    with open(county_csv) as file:\n",
    "        csv_reader = csv.reader(file)\n",
    "        if header:\n",
    "            next(csv_reader)\n",
    "\n",
    "        for line in csv_reader:\n",
    "            if float(line[split_key]) > 0:\n",
    "                hillary_list.append(line)\n",
    "            elif float(line[split_key]) < 0:\n",
    "                trump_list.append(line)\n",
    "\n",
    "    hillary_list.sort(key=lambda x: float(x[split_key]), reverse=True)\n",
    "    trump_list.sort(key=lambda x: float(x[split_key]))\n",
    "    return hillary_list, trump_list"
   ]
  },
  {
   "cell_type": "code",
   "execution_count": 10,
   "metadata": {},
   "outputs": [],
   "source": [
    "def generate_keys(county, candidate, precinct_list, sc_type):\n",
    "    key_file = '../data/keys/' + sc_type + '/' + candidate + '/' + county + '-key'\n",
    "    with open(key_file, 'w') as file:\n",
    "        csv_writer = csv.writer(file)\n",
    "        i = 0\n",
    "        for precinct in precinct_list:\n",
    "            csv_writer.writerow([precinct[0], i])\n",
    "            precinct[0] = i\n",
    "            i += 1\n",
    "    return precinct_list"
   ]
  },
  {
   "cell_type": "code",
   "execution_count": 11,
   "metadata": {},
   "outputs": [],
   "source": [
    "def replace_neighbour_keys(county, candidate, precinct_list, sc_type):\n",
    "    key_file = '../data/keys/' + sc_type + '/' + candidate + '/' + county + '-key'\n",
    "    key_dictionary = {}\n",
    "    with open(key_file) as file:\n",
    "        csv_reader = csv.reader(file)\n",
    "        for line in csv_reader:\n",
    "            key_dictionary[line[0]] = line[1]\n",
    "\n",
    "    for precinct in precinct_list:\n",
    "        neighbours = precinct[1]\n",
    "        neighbours_array = neighbours.split(',')\n",
    "        neighbour_keys = []\n",
    "        for neighbour in neighbours_array:\n",
    "            if neighbour in key_dictionary:\n",
    "                neighbour_keys.append(int(key_dictionary.get(neighbour)))\n",
    "        neighbour_keys.sort()\n",
    "        precinct[1] = neighbour_keys\n",
    "\n",
    "    return precinct_list"
   ]
  },
  {
   "cell_type": "code",
   "execution_count": 13,
   "metadata": {},
   "outputs": [],
   "source": [
    "def form_simplicial_complex(county, candidate, precinct_list):\n",
    "    maxDimension = 3\n",
    "    adjacencies = list(map(lambda m: m[1], precinct_list))\n",
    "    preferences = np.asarray(list(map(lambda m: float(m[2]), precinct_list)))\n",
    "    V = []\n",
    "    V = invr.incremental_vr(V, adjacencies, maxDimension)\n",
    "    outputDir = '../data/sc/adj/' + candidate + '/'\n",
    "\n",
    "    entryTimes = np.floor((1 - np.abs(preferences)) * 100 / 5)\n",
    "\n",
    "    entryTimesSub = [entryTimes[max(simplex) - 1] for simplex in V]\n",
    "\n",
    "    np.savetxt(outputDir + county + '_entry_times.csv', entryTimesSub,\n",
    "               delimiter=' ', fmt='%i')\n",
    "\n",
    "    phatFormatV = replace_face(V)\n",
    "\n",
    "    F = open(outputDir + county + \".dat\", \"w\")\n",
    "\n",
    "    for face in phatFormatV:\n",
    "        F.write(str(len(face) - 1))\n",
    "        if len(face) > 1:\n",
    "            for simplex in face:\n",
    "                F.write(\" \" + str(simplex))\n",
    "        F.write(\"\\n\")\n",
    "    F.close()\n"
   ]
  },
  {
   "cell_type": "code",
   "execution_count": 14,
   "metadata": {},
   "outputs": [],
   "source": [
    "def main():\n",
    "    with open('../full-list') as county_file:\n",
    "        sc_type = 'adj'\n",
    "        timing_csv = '../runtimes/' + sc_type + '_times.csv'\n",
    "        with open(timing_csv, 'w') as timing_file:\n",
    "            for county in county_file:\n",
    "                county = county.split('\\n')[0]\n",
    "                input_csv = '../data/adjacency/' + county + '.csv'\n",
    "                hillary_list, trump_list = split_precincts(input_csv, 2)\n",
    "                hillary_list = generate_keys(county, 'hillary', hillary_list, sc_type)\n",
    "                trump_list = generate_keys(county, 'trump', trump_list, sc_type)\n",
    "                hillary_list = replace_neighbour_keys(county, 'hillary', hillary_list, sc_type)\n",
    "                trump_list = replace_neighbour_keys(county, 'trump', trump_list, sc_type)\n",
    "                start_time = time.time()\n",
    "                if hillary_list:\n",
    "                    form_simplicial_complex(county, 'hillary', hillary_list)\n",
    "                timing_file.write(county + ',adj,hillary,' + str(time.time() - start_time) + '\\n')\n",
    "                start_time = time.time()\n",
    "                if trump_list:\n",
    "                    form_simplicial_complex(county, 'trump', trump_list)\n",
    "                timing_file.write(county + ',adj,trump,' + str(time.time() - start_time) + '\\n')"
   ]
  },
  {
   "cell_type": "code",
   "execution_count": 15,
   "metadata": {},
   "outputs": [
    {
     "ename": "FileNotFoundError",
     "evalue": "[Errno 2] No such file or directory: '../full-list'",
     "output_type": "error",
     "traceback": [
      "\u001b[0;31m---------------------------------------------------------------------------\u001b[0m",
      "\u001b[0;31mFileNotFoundError\u001b[0m                         Traceback (most recent call last)",
      "\u001b[1;32m/Users/h6x/ORNL/git/adjacency-pattern/michelle feng code/code_test.ipynb Cell 16\u001b[0m line \u001b[0;36m2\n\u001b[1;32m      <a href='vscode-notebook-cell:/Users/h6x/ORNL/git/adjacency-pattern/michelle%20feng%20code/code_test.ipynb#X25sZmlsZQ%3D%3D?line=0'>1</a>\u001b[0m \u001b[39mif\u001b[39;00m \u001b[39m__name__\u001b[39m \u001b[39m==\u001b[39m \u001b[39m'\u001b[39m\u001b[39m__main__\u001b[39m\u001b[39m'\u001b[39m:\n\u001b[0;32m----> <a href='vscode-notebook-cell:/Users/h6x/ORNL/git/adjacency-pattern/michelle%20feng%20code/code_test.ipynb#X25sZmlsZQ%3D%3D?line=1'>2</a>\u001b[0m     main()\n",
      "\u001b[1;32m/Users/h6x/ORNL/git/adjacency-pattern/michelle feng code/code_test.ipynb Cell 16\u001b[0m line \u001b[0;36m2\n\u001b[1;32m      <a href='vscode-notebook-cell:/Users/h6x/ORNL/git/adjacency-pattern/michelle%20feng%20code/code_test.ipynb#X25sZmlsZQ%3D%3D?line=0'>1</a>\u001b[0m \u001b[39mdef\u001b[39;00m \u001b[39mmain\u001b[39m():\n\u001b[0;32m----> <a href='vscode-notebook-cell:/Users/h6x/ORNL/git/adjacency-pattern/michelle%20feng%20code/code_test.ipynb#X25sZmlsZQ%3D%3D?line=1'>2</a>\u001b[0m     \u001b[39mwith\u001b[39;00m \u001b[39mopen\u001b[39m(\u001b[39m'\u001b[39m\u001b[39m../full-list\u001b[39m\u001b[39m'\u001b[39m) \u001b[39mas\u001b[39;00m county_file:\n\u001b[1;32m      <a href='vscode-notebook-cell:/Users/h6x/ORNL/git/adjacency-pattern/michelle%20feng%20code/code_test.ipynb#X25sZmlsZQ%3D%3D?line=2'>3</a>\u001b[0m         sc_type \u001b[39m=\u001b[39m \u001b[39m'\u001b[39m\u001b[39madj\u001b[39m\u001b[39m'\u001b[39m\n\u001b[1;32m      <a href='vscode-notebook-cell:/Users/h6x/ORNL/git/adjacency-pattern/michelle%20feng%20code/code_test.ipynb#X25sZmlsZQ%3D%3D?line=3'>4</a>\u001b[0m         timing_csv \u001b[39m=\u001b[39m \u001b[39m'\u001b[39m\u001b[39m../runtimes/\u001b[39m\u001b[39m'\u001b[39m \u001b[39m+\u001b[39m sc_type \u001b[39m+\u001b[39m \u001b[39m'\u001b[39m\u001b[39m_times.csv\u001b[39m\u001b[39m'\u001b[39m\n",
      "File \u001b[0;32m~/anaconda3/envs/TDA/lib/python3.11/site-packages/IPython/core/interactiveshell.py:284\u001b[0m, in \u001b[0;36m_modified_open\u001b[0;34m(file, *args, **kwargs)\u001b[0m\n\u001b[1;32m    277\u001b[0m \u001b[39mif\u001b[39;00m file \u001b[39min\u001b[39;00m {\u001b[39m0\u001b[39m, \u001b[39m1\u001b[39m, \u001b[39m2\u001b[39m}:\n\u001b[1;32m    278\u001b[0m     \u001b[39mraise\u001b[39;00m \u001b[39mValueError\u001b[39;00m(\n\u001b[1;32m    279\u001b[0m         \u001b[39mf\u001b[39m\u001b[39m\"\u001b[39m\u001b[39mIPython won\u001b[39m\u001b[39m'\u001b[39m\u001b[39mt let you open fd=\u001b[39m\u001b[39m{\u001b[39;00mfile\u001b[39m}\u001b[39;00m\u001b[39m by default \u001b[39m\u001b[39m\"\u001b[39m\n\u001b[1;32m    280\u001b[0m         \u001b[39m\"\u001b[39m\u001b[39mas it is likely to crash IPython. If you know what you are doing, \u001b[39m\u001b[39m\"\u001b[39m\n\u001b[1;32m    281\u001b[0m         \u001b[39m\"\u001b[39m\u001b[39myou can use builtins\u001b[39m\u001b[39m'\u001b[39m\u001b[39m open.\u001b[39m\u001b[39m\"\u001b[39m\n\u001b[1;32m    282\u001b[0m     )\n\u001b[0;32m--> 284\u001b[0m \u001b[39mreturn\u001b[39;00m io_open(file, \u001b[39m*\u001b[39margs, \u001b[39m*\u001b[39m\u001b[39m*\u001b[39mkwargs)\n",
      "\u001b[0;31mFileNotFoundError\u001b[0m: [Errno 2] No such file or directory: '../full-list'"
     ]
    }
   ],
   "source": [
    "\n",
    "if __name__ == '__main__':\n",
    "    main()\n"
   ]
  },
  {
   "cell_type": "code",
   "execution_count": null,
   "metadata": {},
   "outputs": [],
   "source": []
  }
 ],
 "metadata": {
  "kernelspec": {
   "display_name": "TDA",
   "language": "python",
   "name": "python3"
  },
  "language_info": {
   "codemirror_mode": {
    "name": "ipython",
    "version": 3
   },
   "file_extension": ".py",
   "mimetype": "text/x-python",
   "name": "python",
   "nbconvert_exporter": "python",
   "pygments_lexer": "ipython3",
   "version": "3.11.4"
  }
 },
 "nbformat": 4,
 "nbformat_minor": 2
}
