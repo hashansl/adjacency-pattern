{
 "cells": [
  {
   "cell_type": "code",
   "execution_count": null,
   "metadata": {},
   "outputs": [],
   "source": []
  },
  {
   "cell_type": "markdown",
   "metadata": {},
   "source": []
  },
  {
   "cell_type": "code",
   "execution_count": 1,
   "metadata": {},
   "outputs": [],
   "source": [
    "import pandas as pd\n",
    "import matplotlib.pyplot as plt\n",
    "import geopandas as gpd\n",
    "import numpy as np\n",
    "import itertools\n",
    "from itertools import combinations\n",
    "from scipy import spatial\n",
    "import pickle as pickle\n",
    "import gudhi\n",
    "from pylab import *\n",
    "from mpl_toolkits.mplot3d import Axes3D\n",
    "%matplotlib inline\n",
    "import io\n",
    "from tqdm import tqdm\n",
    "from PIL import Image, ImageDraw, ImageChops, ImageFont\n",
    "import shapely.geometry as geom\n",
    "from shapely.ops import unary_union\n",
    "import warnings\n",
    "\n",
    "# Ignore FutureWarnings\n",
    "warnings.simplefilter(action='ignore', category=FutureWarning)"
   ]
  },
  {
   "cell_type": "markdown",
   "metadata": {},
   "source": [
    "#### combining my study with previous study - Trying to create SC for single filteration level"
   ]
  },
  {
   "cell_type": "code",
   "execution_count": 2,
   "metadata": {},
   "outputs": [],
   "source": [
    "#first create the grid system"
   ]
  },
  {
   "cell_type": "code",
   "execution_count": 3,
   "metadata": {},
   "outputs": [],
   "source": [
    "# Create a DataFrame with box names and values\n",
    "box_names = [chr(65 + i) for i in range(16)]\n",
    "values = list(range(0, 16))\n",
    "values_1 = [1,2,3,4,8,7,6,5,9,10,11,12,16,15,14,13]\n",
    "values_2 = list(range(1, 17))\n",
    "df = pd.DataFrame({'FIPS': box_names, 'Value': values,'Value_1': values_1,'Value_2': values_2})"
   ]
  },
  {
   "cell_type": "code",
   "execution_count": 4,
   "metadata": {},
   "outputs": [
    {
     "data": {
      "text/html": [
       "<div>\n",
       "<style scoped>\n",
       "    .dataframe tbody tr th:only-of-type {\n",
       "        vertical-align: middle;\n",
       "    }\n",
       "\n",
       "    .dataframe tbody tr th {\n",
       "        vertical-align: top;\n",
       "    }\n",
       "\n",
       "    .dataframe thead th {\n",
       "        text-align: right;\n",
       "    }\n",
       "</style>\n",
       "<table border=\"1\" class=\"dataframe\">\n",
       "  <thead>\n",
       "    <tr style=\"text-align: right;\">\n",
       "      <th></th>\n",
       "      <th>FIPS</th>\n",
       "      <th>Value</th>\n",
       "      <th>Value_1</th>\n",
       "      <th>Value_2</th>\n",
       "    </tr>\n",
       "  </thead>\n",
       "  <tbody>\n",
       "    <tr>\n",
       "      <th>0</th>\n",
       "      <td>A</td>\n",
       "      <td>0</td>\n",
       "      <td>1</td>\n",
       "      <td>1</td>\n",
       "    </tr>\n",
       "    <tr>\n",
       "      <th>1</th>\n",
       "      <td>B</td>\n",
       "      <td>1</td>\n",
       "      <td>2</td>\n",
       "      <td>2</td>\n",
       "    </tr>\n",
       "    <tr>\n",
       "      <th>2</th>\n",
       "      <td>C</td>\n",
       "      <td>2</td>\n",
       "      <td>3</td>\n",
       "      <td>3</td>\n",
       "    </tr>\n",
       "    <tr>\n",
       "      <th>3</th>\n",
       "      <td>D</td>\n",
       "      <td>3</td>\n",
       "      <td>4</td>\n",
       "      <td>4</td>\n",
       "    </tr>\n",
       "    <tr>\n",
       "      <th>4</th>\n",
       "      <td>E</td>\n",
       "      <td>4</td>\n",
       "      <td>8</td>\n",
       "      <td>5</td>\n",
       "    </tr>\n",
       "    <tr>\n",
       "      <th>5</th>\n",
       "      <td>F</td>\n",
       "      <td>5</td>\n",
       "      <td>7</td>\n",
       "      <td>6</td>\n",
       "    </tr>\n",
       "    <tr>\n",
       "      <th>6</th>\n",
       "      <td>G</td>\n",
       "      <td>6</td>\n",
       "      <td>6</td>\n",
       "      <td>7</td>\n",
       "    </tr>\n",
       "    <tr>\n",
       "      <th>7</th>\n",
       "      <td>H</td>\n",
       "      <td>7</td>\n",
       "      <td>5</td>\n",
       "      <td>8</td>\n",
       "    </tr>\n",
       "    <tr>\n",
       "      <th>8</th>\n",
       "      <td>I</td>\n",
       "      <td>8</td>\n",
       "      <td>9</td>\n",
       "      <td>9</td>\n",
       "    </tr>\n",
       "    <tr>\n",
       "      <th>9</th>\n",
       "      <td>J</td>\n",
       "      <td>9</td>\n",
       "      <td>10</td>\n",
       "      <td>10</td>\n",
       "    </tr>\n",
       "    <tr>\n",
       "      <th>10</th>\n",
       "      <td>K</td>\n",
       "      <td>10</td>\n",
       "      <td>11</td>\n",
       "      <td>11</td>\n",
       "    </tr>\n",
       "    <tr>\n",
       "      <th>11</th>\n",
       "      <td>L</td>\n",
       "      <td>11</td>\n",
       "      <td>12</td>\n",
       "      <td>12</td>\n",
       "    </tr>\n",
       "    <tr>\n",
       "      <th>12</th>\n",
       "      <td>M</td>\n",
       "      <td>12</td>\n",
       "      <td>16</td>\n",
       "      <td>13</td>\n",
       "    </tr>\n",
       "    <tr>\n",
       "      <th>13</th>\n",
       "      <td>N</td>\n",
       "      <td>13</td>\n",
       "      <td>15</td>\n",
       "      <td>14</td>\n",
       "    </tr>\n",
       "    <tr>\n",
       "      <th>14</th>\n",
       "      <td>O</td>\n",
       "      <td>14</td>\n",
       "      <td>14</td>\n",
       "      <td>15</td>\n",
       "    </tr>\n",
       "    <tr>\n",
       "      <th>15</th>\n",
       "      <td>P</td>\n",
       "      <td>15</td>\n",
       "      <td>13</td>\n",
       "      <td>16</td>\n",
       "    </tr>\n",
       "  </tbody>\n",
       "</table>\n",
       "</div>"
      ],
      "text/plain": [
       "   FIPS  Value  Value_1  Value_2\n",
       "0     A      0        1        1\n",
       "1     B      1        2        2\n",
       "2     C      2        3        3\n",
       "3     D      3        4        4\n",
       "4     E      4        8        5\n",
       "5     F      5        7        6\n",
       "6     G      6        6        7\n",
       "7     H      7        5        8\n",
       "8     I      8        9        9\n",
       "9     J      9       10       10\n",
       "10    K     10       11       11\n",
       "11    L     11       12       12\n",
       "12    M     12       16       13\n",
       "13    N     13       15       14\n",
       "14    O     14       14       15\n",
       "15    P     15       13       16"
      ]
     },
     "execution_count": 4,
     "metadata": {},
     "output_type": "execute_result"
    }
   ],
   "source": [
    "df"
   ]
  },
  {
   "cell_type": "code",
   "execution_count": 5,
   "metadata": {},
   "outputs": [],
   "source": [
    "# Function to calculate square coordinates for a given name\n",
    "def calculate_square_coordinates(row):\n",
    "    box_name = row['FIPS']\n",
    "    value = row['Value']\n",
    "    # Assuming each smaller square has a side length of 1 unit\n",
    "    x = value % 4\n",
    "    y = value // 4\n",
    "    # Return square coordinates as a Shapely polygon\n",
    "    return geom.Polygon([(x, y), (x+1, y), (x+1, y+1), (x, y+1)])"
   ]
  },
  {
   "cell_type": "code",
   "execution_count": 6,
   "metadata": {},
   "outputs": [],
   "source": [
    "# Calculate square coordinates for each row and create a geometry column\n",
    "df['geometry'] = df.apply(calculate_square_coordinates, axis=1)"
   ]
  },
  {
   "cell_type": "code",
   "execution_count": 7,
   "metadata": {},
   "outputs": [],
   "source": [
    "# Convert the DataFrame to a GeoDataFrame\n",
    "gdf = gpd.GeoDataFrame(df, geometry='geometry')"
   ]
  },
  {
   "cell_type": "code",
   "execution_count": 8,
   "metadata": {},
   "outputs": [],
   "source": [
    "# Set the CRS to a simple Cartesian coordinate system\n",
    "gdf.crs = \"EPSG:3395\"  # This is a commonly used projected CRS"
   ]
  },
  {
   "cell_type": "code",
   "execution_count": 9,
   "metadata": {},
   "outputs": [
    {
     "data": {
      "text/html": [
       "<div>\n",
       "<style scoped>\n",
       "    .dataframe tbody tr th:only-of-type {\n",
       "        vertical-align: middle;\n",
       "    }\n",
       "\n",
       "    .dataframe tbody tr th {\n",
       "        vertical-align: top;\n",
       "    }\n",
       "\n",
       "    .dataframe thead th {\n",
       "        text-align: right;\n",
       "    }\n",
       "</style>\n",
       "<table border=\"1\" class=\"dataframe\">\n",
       "  <thead>\n",
       "    <tr style=\"text-align: right;\">\n",
       "      <th></th>\n",
       "      <th>FIPS</th>\n",
       "      <th>Value</th>\n",
       "      <th>Value_1</th>\n",
       "      <th>Value_2</th>\n",
       "      <th>geometry</th>\n",
       "    </tr>\n",
       "  </thead>\n",
       "  <tbody>\n",
       "    <tr>\n",
       "      <th>0</th>\n",
       "      <td>A</td>\n",
       "      <td>0</td>\n",
       "      <td>1</td>\n",
       "      <td>1</td>\n",
       "      <td>POLYGON ((0.000 0.000, 1.000 0.000, 1.000 1.00...</td>\n",
       "    </tr>\n",
       "    <tr>\n",
       "      <th>1</th>\n",
       "      <td>B</td>\n",
       "      <td>1</td>\n",
       "      <td>2</td>\n",
       "      <td>2</td>\n",
       "      <td>POLYGON ((1.000 0.000, 2.000 0.000, 2.000 1.00...</td>\n",
       "    </tr>\n",
       "    <tr>\n",
       "      <th>2</th>\n",
       "      <td>C</td>\n",
       "      <td>2</td>\n",
       "      <td>3</td>\n",
       "      <td>3</td>\n",
       "      <td>POLYGON ((2.000 0.000, 3.000 0.000, 3.000 1.00...</td>\n",
       "    </tr>\n",
       "    <tr>\n",
       "      <th>3</th>\n",
       "      <td>D</td>\n",
       "      <td>3</td>\n",
       "      <td>4</td>\n",
       "      <td>4</td>\n",
       "      <td>POLYGON ((3.000 0.000, 4.000 0.000, 4.000 1.00...</td>\n",
       "    </tr>\n",
       "    <tr>\n",
       "      <th>4</th>\n",
       "      <td>E</td>\n",
       "      <td>4</td>\n",
       "      <td>8</td>\n",
       "      <td>5</td>\n",
       "      <td>POLYGON ((0.000 1.000, 1.000 1.000, 1.000 2.00...</td>\n",
       "    </tr>\n",
       "    <tr>\n",
       "      <th>5</th>\n",
       "      <td>F</td>\n",
       "      <td>5</td>\n",
       "      <td>7</td>\n",
       "      <td>6</td>\n",
       "      <td>POLYGON ((1.000 1.000, 2.000 1.000, 2.000 2.00...</td>\n",
       "    </tr>\n",
       "    <tr>\n",
       "      <th>6</th>\n",
       "      <td>G</td>\n",
       "      <td>6</td>\n",
       "      <td>6</td>\n",
       "      <td>7</td>\n",
       "      <td>POLYGON ((2.000 1.000, 3.000 1.000, 3.000 2.00...</td>\n",
       "    </tr>\n",
       "    <tr>\n",
       "      <th>7</th>\n",
       "      <td>H</td>\n",
       "      <td>7</td>\n",
       "      <td>5</td>\n",
       "      <td>8</td>\n",
       "      <td>POLYGON ((3.000 1.000, 4.000 1.000, 4.000 2.00...</td>\n",
       "    </tr>\n",
       "    <tr>\n",
       "      <th>8</th>\n",
       "      <td>I</td>\n",
       "      <td>8</td>\n",
       "      <td>9</td>\n",
       "      <td>9</td>\n",
       "      <td>POLYGON ((0.000 2.000, 1.000 2.000, 1.000 3.00...</td>\n",
       "    </tr>\n",
       "    <tr>\n",
       "      <th>9</th>\n",
       "      <td>J</td>\n",
       "      <td>9</td>\n",
       "      <td>10</td>\n",
       "      <td>10</td>\n",
       "      <td>POLYGON ((1.000 2.000, 2.000 2.000, 2.000 3.00...</td>\n",
       "    </tr>\n",
       "    <tr>\n",
       "      <th>10</th>\n",
       "      <td>K</td>\n",
       "      <td>10</td>\n",
       "      <td>11</td>\n",
       "      <td>11</td>\n",
       "      <td>POLYGON ((2.000 2.000, 3.000 2.000, 3.000 3.00...</td>\n",
       "    </tr>\n",
       "    <tr>\n",
       "      <th>11</th>\n",
       "      <td>L</td>\n",
       "      <td>11</td>\n",
       "      <td>12</td>\n",
       "      <td>12</td>\n",
       "      <td>POLYGON ((3.000 2.000, 4.000 2.000, 4.000 3.00...</td>\n",
       "    </tr>\n",
       "    <tr>\n",
       "      <th>12</th>\n",
       "      <td>M</td>\n",
       "      <td>12</td>\n",
       "      <td>16</td>\n",
       "      <td>13</td>\n",
       "      <td>POLYGON ((0.000 3.000, 1.000 3.000, 1.000 4.00...</td>\n",
       "    </tr>\n",
       "    <tr>\n",
       "      <th>13</th>\n",
       "      <td>N</td>\n",
       "      <td>13</td>\n",
       "      <td>15</td>\n",
       "      <td>14</td>\n",
       "      <td>POLYGON ((1.000 3.000, 2.000 3.000, 2.000 4.00...</td>\n",
       "    </tr>\n",
       "    <tr>\n",
       "      <th>14</th>\n",
       "      <td>O</td>\n",
       "      <td>14</td>\n",
       "      <td>14</td>\n",
       "      <td>15</td>\n",
       "      <td>POLYGON ((2.000 3.000, 3.000 3.000, 3.000 4.00...</td>\n",
       "    </tr>\n",
       "    <tr>\n",
       "      <th>15</th>\n",
       "      <td>P</td>\n",
       "      <td>15</td>\n",
       "      <td>13</td>\n",
       "      <td>16</td>\n",
       "      <td>POLYGON ((3.000 3.000, 4.000 3.000, 4.000 4.00...</td>\n",
       "    </tr>\n",
       "  </tbody>\n",
       "</table>\n",
       "</div>"
      ],
      "text/plain": [
       "   FIPS  Value  Value_1  Value_2  \\\n",
       "0     A      0        1        1   \n",
       "1     B      1        2        2   \n",
       "2     C      2        3        3   \n",
       "3     D      3        4        4   \n",
       "4     E      4        8        5   \n",
       "5     F      5        7        6   \n",
       "6     G      6        6        7   \n",
       "7     H      7        5        8   \n",
       "8     I      8        9        9   \n",
       "9     J      9       10       10   \n",
       "10    K     10       11       11   \n",
       "11    L     11       12       12   \n",
       "12    M     12       16       13   \n",
       "13    N     13       15       14   \n",
       "14    O     14       14       15   \n",
       "15    P     15       13       16   \n",
       "\n",
       "                                             geometry  \n",
       "0   POLYGON ((0.000 0.000, 1.000 0.000, 1.000 1.00...  \n",
       "1   POLYGON ((1.000 0.000, 2.000 0.000, 2.000 1.00...  \n",
       "2   POLYGON ((2.000 0.000, 3.000 0.000, 3.000 1.00...  \n",
       "3   POLYGON ((3.000 0.000, 4.000 0.000, 4.000 1.00...  \n",
       "4   POLYGON ((0.000 1.000, 1.000 1.000, 1.000 2.00...  \n",
       "5   POLYGON ((1.000 1.000, 2.000 1.000, 2.000 2.00...  \n",
       "6   POLYGON ((2.000 1.000, 3.000 1.000, 3.000 2.00...  \n",
       "7   POLYGON ((3.000 1.000, 4.000 1.000, 4.000 2.00...  \n",
       "8   POLYGON ((0.000 2.000, 1.000 2.000, 1.000 3.00...  \n",
       "9   POLYGON ((1.000 2.000, 2.000 2.000, 2.000 3.00...  \n",
       "10  POLYGON ((2.000 2.000, 3.000 2.000, 3.000 3.00...  \n",
       "11  POLYGON ((3.000 2.000, 4.000 2.000, 4.000 3.00...  \n",
       "12  POLYGON ((0.000 3.000, 1.000 3.000, 1.000 4.00...  \n",
       "13  POLYGON ((1.000 3.000, 2.000 3.000, 2.000 4.00...  \n",
       "14  POLYGON ((2.000 3.000, 3.000 3.000, 3.000 4.00...  \n",
       "15  POLYGON ((3.000 3.000, 4.000 3.000, 4.000 4.00...  "
      ]
     },
     "execution_count": 9,
     "metadata": {},
     "output_type": "execute_result"
    }
   ],
   "source": [
    "gdf"
   ]
  },
  {
   "cell_type": "code",
   "execution_count": 10,
   "metadata": {},
   "outputs": [
    {
     "data": {
      "image/png": "[encoded data removed]",
      "text/plain": [
       "<Figure size 1000x1000 with 1 Axes>"
      ]
     },
     "metadata": {},
     "output_type": "display_data"
    }
   ],
   "source": [
    "fig, ax = plt.subplots(figsize=(10, 10))\n",
    "ax.set_facecolor('white')\n",
    "\n",
    "# Remove the axis\n",
    "ax.axis('off')\n",
    "\n",
    "# Plot the data on the specified Axes object\n",
    "gdf.plot( edgecolor='black', linewidth=0.4, ax=ax, color='white')\n",
    "\n",
    "# Plot the centroid of the large square with values\n",
    "for i, row in gdf.iterrows():\n",
    "    centroid = row['geometry'].centroid\n",
    "    ax.text(centroid.x, centroid.y, str(row['FIPS']), fontsize=8, ha='center')\n",
    "\n",
    "# Display the plot\n",
    "plt.show()"
   ]
  },
  {
   "cell_type": "code",
   "execution_count": 11,
   "metadata": {},
   "outputs": [
    {
     "data": {
      "image/png": "[encoded data removed]",
      "text/plain": [
       "<Figure size 1000x1000 with 1 Axes>"
      ]
     },
     "metadata": {},
     "output_type": "display_data"
    }
   ],
   "source": [
    "fig, ax = plt.subplots(figsize=(10, 10))\n",
    "ax.set_facecolor('white')\n",
    "\n",
    "# Remove the axis\n",
    "ax.axis('off')\n",
    "\n",
    "# Plot the data on the specified Axes object\n",
    "gdf.plot( edgecolor='black', linewidth=0.4, ax=ax, color='white')\n",
    "\n",
    "# Plot the centroid of the large square with values\n",
    "for i, row in gdf.iterrows():\n",
    "    centroid = row['geometry'].centroid\n",
    "    ax.text(centroid.x, centroid.y, str(row['Value']), fontsize=8, ha='center')\n",
    "\n",
    "# Display the plot\n",
    "plt.show()"
   ]
  },
  {
   "cell_type": "code",
   "execution_count": 12,
   "metadata": {},
   "outputs": [],
   "source": [
    "# Now let's apply fileration level and then create the adjacent counties for each county"
   ]
  },
  {
   "cell_type": "code",
   "execution_count": 13,
   "metadata": {},
   "outputs": [],
   "source": [
    "filtration_threshold_ = 6\n",
    "filtered_df = gdf[gdf['Value_1'] < filtration_threshold_]"
   ]
  },
  {
   "cell_type": "code",
   "execution_count": 14,
   "metadata": {},
   "outputs": [],
   "source": [
    "# Perform a spatial join to find adjacent precincts\n",
    "adjacent_precincts = gpd.sjoin(filtered_df, filtered_df, predicate='intersects', how='left')\n",
    "\n",
    " # Filter the results to include only the adjacent states\n",
    "adjacent_precincts = adjacent_precincts.query('Value_left != Value_right')\n",
    "\n",
    "# Group the resulting dataframe by the original precinct Name and create a list of adjacent precinct Name\n",
    "adjacent_precincts = adjacent_precincts.groupby('Value_left')['Value_right'].apply(list).reset_index()"
   ]
  },
  {
   "cell_type": "code",
   "execution_count": null,
   "metadata": {},
   "outputs": [],
   "source": [
    "adjacent_precincts.rename(columns={'Value_left': 'county', 'Value_right': 'adjacent'}, inplace=True)"
   ]
  },
  {
   "cell_type": "code",
   "execution_count": 15,
   "metadata": {},
   "outputs": [
    {
     "data": {
      "text/html": [
       "<div>\n",
       "<style scoped>\n",
       "    .dataframe tbody tr th:only-of-type {\n",
       "        vertical-align: middle;\n",
       "    }\n",
       "\n",
       "    .dataframe tbody tr th {\n",
       "        vertical-align: top;\n",
       "    }\n",
       "\n",
       "    .dataframe thead th {\n",
       "        text-align: right;\n",
       "    }\n",
       "</style>\n",
       "<table border=\"1\" class=\"dataframe\">\n",
       "  <thead>\n",
       "    <tr style=\"text-align: right;\">\n",
       "      <th></th>\n",
       "      <th>Value_left</th>\n",
       "      <th>Value_right</th>\n",
       "    </tr>\n",
       "  </thead>\n",
       "  <tbody>\n",
       "    <tr>\n",
       "      <th>0</th>\n",
       "      <td>0</td>\n",
       "      <td>[1]</td>\n",
       "    </tr>\n",
       "    <tr>\n",
       "      <th>1</th>\n",
       "      <td>1</td>\n",
       "      <td>[0, 2]</td>\n",
       "    </tr>\n",
       "    <tr>\n",
       "      <th>2</th>\n",
       "      <td>2</td>\n",
       "      <td>[1, 3, 7]</td>\n",
       "    </tr>\n",
       "    <tr>\n",
       "      <th>3</th>\n",
       "      <td>3</td>\n",
       "      <td>[2, 7]</td>\n",
       "    </tr>\n",
       "    <tr>\n",
       "      <th>4</th>\n",
       "      <td>7</td>\n",
       "      <td>[2, 3]</td>\n",
       "    </tr>\n",
       "  </tbody>\n",
       "</table>\n",
       "</div>"
      ],
      "text/plain": [
       "   Value_left Value_right\n",
       "0           0         [1]\n",
       "1           1      [0, 2]\n",
       "2           2   [1, 3, 7]\n",
       "3           3      [2, 7]\n",
       "4           7      [2, 3]"
      ]
     },
     "execution_count": 15,
     "metadata": {},
     "output_type": "execute_result"
    }
   ],
   "source": [
    "adjacent_precincts"
   ]
  },
  {
   "cell_type": "code",
   "execution_count": 16,
   "metadata": {},
   "outputs": [],
   "source": [
    "# testing my previous code to undeerstand how it works"
   ]
  },
  {
   "cell_type": "code",
   "execution_count": 18,
   "metadata": {},
   "outputs": [],
   "source": [
    "city_sets = {}\n",
    "# iterate through rows and define cities as sets\n",
    "for index, row in adjacent_precincts.iterrows():\n",
    "    city_set_name = row['Value_left']\n",
    "    # print(city_set_name)\n",
    "    city_set = set(row['Value_right'])\n",
    "    city_sets[city_set_name] = city_set\n",
    "    # print(city_set)"
   ]
  },
  {
   "cell_type": "code",
   "execution_count": 19,
   "metadata": {},
   "outputs": [
    {
     "data": {
      "text/plain": [
       "{0: {1}, 1: {0, 2}, 2: {1, 3, 7}, 3: {2, 7}, 7: {2, 3}}"
      ]
     },
     "execution_count": 19,
     "metadata": {},
     "output_type": "execute_result"
    }
   ],
   "source": [
    "city_sets"
   ]
  },
  {
   "cell_type": "code",
   "execution_count": 25,
   "metadata": {},
   "outputs": [],
   "source": [
    "#city centroids\n",
    "city_coordinates = {city.Value: np.array((city.geometry.centroid.x, city.geometry.centroid.y)) for _, city in filtered_df.iterrows()}"
   ]
  },
  {
   "cell_type": "code",
   "execution_count": 26,
   "metadata": {},
   "outputs": [
    {
     "data": {
      "text/plain": [
       "{0: array([0.5, 0.5]),\n",
       " 1: array([1.5, 0.5]),\n",
       " 2: array([2.5, 0.5]),\n",
       " 3: array([3.5, 0.5]),\n",
       " 7: array([3.5, 1.5])}"
      ]
     },
     "execution_count": 26,
     "metadata": {},
     "output_type": "execute_result"
    }
   ],
   "source": [
    "city_coordinates"
   ]
  },
  {
   "cell_type": "code",
   "execution_count": 27,
   "metadata": {},
   "outputs": [
    {
     "data": {
      "text/plain": [
       "[0, 1, 2, 3, 7]"
      ]
     },
     "execution_count": 27,
     "metadata": {},
     "output_type": "execute_result"
    }
   ],
   "source": [
    "points = [city_set_name for city_set_name in city_sets.keys()]\n",
    "points"
   ]
  },
  {
   "cell_type": "code",
   "execution_count": 28,
   "metadata": {},
   "outputs": [],
   "source": [
    "pairs = []\n",
    "for i in range(len(points)):\n",
    "            for j in range(i+1, len(points)):\n",
    "                pair = [points[i], points[j]]\n",
    "                if len(pair) == 2 and pair not in pairs:\n",
    "                    pairs.append(pair)"
   ]
  },
  {
   "cell_type": "code",
   "execution_count": 29,
   "metadata": {},
   "outputs": [
    {
     "data": {
      "text/plain": [
       "[[0, 1],\n",
       " [0, 2],\n",
       " [0, 3],\n",
       " [0, 7],\n",
       " [1, 2],\n",
       " [1, 3],\n",
       " [1, 7],\n",
       " [2, 3],\n",
       " [2, 7],\n",
       " [3, 7]]"
      ]
     },
     "execution_count": 29,
     "metadata": {},
     "output_type": "execute_result"
    }
   ],
   "source": [
    "pairs"
   ]
  },
  {
   "cell_type": "code",
   "execution_count": 33,
   "metadata": {},
   "outputs": [],
   "source": [
    "selected_edges = []"
   ]
  },
  {
   "cell_type": "code",
   "execution_count": 34,
   "metadata": {},
   "outputs": [
    {
     "name": "stdout",
     "output_type": "stream",
     "text": [
      "pair : [0, 1]\n",
      "pair[0] : 0\n",
      "city_sets[pair[1]] : {0, 2}\n"
     ]
    },
    {
     "data": {
      "image/png": "[encoded data removed]",
      "text/plain": [
       "<Figure size 2000x2000 with 1 Axes>"
      ]
     },
     "metadata": {},
     "output_type": "display_data"
    },
    {
     "name": "stdout",
     "output_type": "stream",
     "text": [
      "pair : [0, 2]\n",
      "pair : [0, 3]\n",
      "pair : [0, 7]\n",
      "pair : [1, 2]\n",
      "pair[0] : 1\n",
      "city_sets[pair[1]] : {1, 3, 7}\n"
     ]
    },
    {
     "data": {
      "image/png": "[encoded data removed]",
      "text/plain": [
       "<Figure size 2000x2000 with 1 Axes>"
      ]
     },
     "metadata": {},
     "output_type": "display_data"
    },
    {
     "name": "stdout",
     "output_type": "stream",
     "text": [
      "pair : [1, 3]\n",
      "pair : [1, 7]\n",
      "pair : [2, 3]\n",
      "pair[0] : 2\n",
      "city_sets[pair[1]] : {2, 7}\n"
     ]
    },
    {
     "data": {
      "image/png": "[encoded data removed]",
      "text/plain": [
       "<Figure size 2000x2000 with 1 Axes>"
      ]
     },
     "metadata": {},
     "output_type": "display_data"
    },
    {
     "name": "stdout",
     "output_type": "stream",
     "text": [
      "pair : [2, 7]\n",
      "pair[0] : 2\n",
      "city_sets[pair[1]] : {2, 3}\n"
     ]
    },
    {
     "data": {
      "image/png": "[encoded data removed]",
      "text/plain": [
       "<Figure size 2000x2000 with 1 Axes>"
      ]
     },
     "metadata": {},
     "output_type": "display_data"
    },
    {
     "name": "stdout",
     "output_type": "stream",
     "text": [
      "pair : [3, 7]\n",
      "pair[0] : 3\n",
      "city_sets[pair[1]] : {2, 3}\n"
     ]
    },
    {
     "data": {
      "image/png": "[encoded data removed]",
      "text/plain": [
       "<Figure size 2000x2000 with 1 Axes>"
      ]
     },
     "metadata": {},
     "output_type": "display_data"
    }
   ],
   "source": [
    "for pair in pairs:\n",
    "    print(\"pair :\", pair)\n",
    "    if pair[0] in city_sets[pair[1]]:\n",
    "        print(\"pair[0] :\", pair[0])\n",
    "        print(\"city_sets[pair[1]] :\", city_sets[pair[1]])\n",
    "\n",
    "        if pair not in selected_edges:\n",
    "            selected_edges.append(pair)\n",
    "            # print(\"Filteration threshold:\",filtration_threshold_)\n",
    "            # print(\"Number of edges:\",len(selected_edges))\n",
    "\n",
    "            # Create a figure and axis\n",
    "            fig, ax = plt.subplots(figsize=(20, 20))\n",
    "            ax.set_axis_off() \n",
    "\n",
    "            # Plot the \"wyoming_svi\" DataFrame\n",
    "            gdf.plot(ax=ax, edgecolor='black', linewidth=0.3,color=\"white\")\n",
    "            \n",
    "            # Plot the centroid of the large square with values\n",
    "            for i, row in gdf.iterrows():\n",
    "                centroid = row['geometry'].centroid\n",
    "                plt.text(centroid.x, centroid.y, str(row['Value_1']), fontsize=15, ha='center',color=\"black\")\n",
    "\n",
    "            # Iterate over selected edges and plot them on the same axis\n",
    "            for selected_pair in selected_edges:\n",
    "                ax.plot([city_coordinates[selected_pair[0]][0], city_coordinates[selected_pair[1]][0]],\n",
    "                        [city_coordinates[selected_pair[0]][1], city_coordinates[selected_pair[1]][1]], color='green')\n",
    "\n",
    "\n",
    "            # Flatten the list of lists to a single list of edges\n",
    "            flat_edges = [edge for sublist in selected_edges for edge in sublist]\n",
    "            unique_edges = list(set(flat_edges))\n",
    "\n",
    "            filtered_coordinates = {key: value for key, value in city_coordinates.items() if key in unique_edges}\n",
    "            # print(filtered_coordinates)\n",
    "            # print(\"Unique centroids\",unique_edges)\n",
    "\n",
    "            # Color the triangles formed by any three points\n",
    "            for combo in combinations(filtered_coordinates.keys(), 3):\n",
    "                if combo[1] in city_sets[combo[0]] and combo[2] in city_sets[combo[0]] and combo[2] in city_sets[combo[1]]:\n",
    "\n",
    "                    # Creating pairs\n",
    "                    pair1 = [combo[0], combo[1]]\n",
    "                    pair2 = [combo[0], combo[2]]\n",
    "                    pair3 = [combo[2], combo[1]]\n",
    "                    pair33 = [combo[1], combo[2]]\n",
    "\n",
    "\n",
    "                    # Storing pairs in an array\n",
    "                    # pairs_array = [pair1, pair2, pair3]\n",
    "                    # print(selected_edges)\n",
    "                    # print(pair1)\n",
    "                    # print(pair2)\n",
    "                    # print(pair33)\n",
    "\n",
    "\n",
    "\n",
    "                    # if (pair1 or pair11) in selected_edges and (pair2 or pair22) in selected_edges and (pair3 or pair33) in selected_edges:\n",
    "                    if pair1 in selected_edges and pair2 in selected_edges and pair33 in selected_edges:\n",
    "\n",
    "\n",
    "                        # if combo[1] in unique_edges and combo[2] in unique_edges and combo[2] in unique_edges:\n",
    "                        # print(\"comb 1: \",combo[0])\n",
    "                        # print(\"comb 2: \",combo[1])\n",
    "                        # print(\"comb 3: \",combo[2])\n",
    "\n",
    "                        p1 = city_coordinates[combo[0]]\n",
    "                        p2 = city_coordinates[combo[1]]\n",
    "                        p3 = city_coordinates[combo[2]]\n",
    "                        plt.fill([p1[0], p2[0], p3[0]], [p1[1], p2[1], p3[1]], color='yellow', alpha=0.3)\n",
    "\n",
    "                        plt.scatter(p1[0], p1[1], color='green',s=5)\n",
    "                        plt.scatter(p2[0], p2[1], color='green',s=5)\n",
    "                        plt.scatter(p3[0], p3[1], color='green',s=5) \n",
    "\n",
    "            plt.show()\n",
    "\n",
    "\n"
   ]
  },
  {
   "cell_type": "code",
   "execution_count": 35,
   "metadata": {},
   "outputs": [],
   "source": [
    "# there are few issues in this code. Firstly, It dosen't have method the selected edges based on a sorted list. If we reshuffle the list, the edges will be different."
   ]
  },
  {
   "cell_type": "code",
   "execution_count": null,
   "metadata": {},
   "outputs": [],
   "source": []
  },
  {
   "cell_type": "code",
   "execution_count": null,
   "metadata": {},
   "outputs": [],
   "source": [
    "# Now let's create the simplicial complex"
   ]
  },
  {
   "cell_type": "code",
   "execution_count": 36,
   "metadata": {},
   "outputs": [],
   "source": [
    "adjacent_precincts['rate'] = ['0','1','2','3','4']"
   ]
  },
  {
   "cell_type": "code",
   "execution_count": 37,
   "metadata": {},
   "outputs": [
    {
     "data": {
      "text/html": [
       "<div>\n",
       "<style scoped>\n",
       "    .dataframe tbody tr th:only-of-type {\n",
       "        vertical-align: middle;\n",
       "    }\n",
       "\n",
       "    .dataframe tbody tr th {\n",
       "        vertical-align: top;\n",
       "    }\n",
       "\n",
       "    .dataframe thead th {\n",
       "        text-align: right;\n",
       "    }\n",
       "</style>\n",
       "<table border=\"1\" class=\"dataframe\">\n",
       "  <thead>\n",
       "    <tr style=\"text-align: right;\">\n",
       "      <th></th>\n",
       "      <th>Value_left</th>\n",
       "      <th>Value_right</th>\n",
       "      <th>rate</th>\n",
       "    </tr>\n",
       "  </thead>\n",
       "  <tbody>\n",
       "    <tr>\n",
       "      <th>0</th>\n",
       "      <td>0</td>\n",
       "      <td>[1]</td>\n",
       "      <td>0</td>\n",
       "    </tr>\n",
       "    <tr>\n",
       "      <th>1</th>\n",
       "      <td>1</td>\n",
       "      <td>[0, 2]</td>\n",
       "      <td>1</td>\n",
       "    </tr>\n",
       "    <tr>\n",
       "      <th>2</th>\n",
       "      <td>2</td>\n",
       "      <td>[1, 3, 7]</td>\n",
       "      <td>2</td>\n",
       "    </tr>\n",
       "    <tr>\n",
       "      <th>3</th>\n",
       "      <td>3</td>\n",
       "      <td>[2, 7]</td>\n",
       "      <td>3</td>\n",
       "    </tr>\n",
       "    <tr>\n",
       "      <th>4</th>\n",
       "      <td>7</td>\n",
       "      <td>[2, 3]</td>\n",
       "      <td>4</td>\n",
       "    </tr>\n",
       "  </tbody>\n",
       "</table>\n",
       "</div>"
      ],
      "text/plain": [
       "   Value_left Value_right rate\n",
       "0           0         [1]    0\n",
       "1           1      [0, 2]    1\n",
       "2           2   [1, 3, 7]    2\n",
       "3           3      [2, 7]    3\n",
       "4           7      [2, 3]    4"
      ]
     },
     "execution_count": 37,
     "metadata": {},
     "output_type": "execute_result"
    }
   ],
   "source": [
    "adjacent_precincts"
   ]
  },
  {
   "cell_type": "code",
   "execution_count": 38,
   "metadata": {},
   "outputs": [],
   "source": [
    "def lower_neighbors(adjacencies, vertex):\n",
    "    return [v for v in adjacencies[vertex] if v < vertex]"
   ]
  },
  {
   "cell_type": "code",
   "execution_count": 39,
   "metadata": {},
   "outputs": [],
   "source": [
    "def add_cofaces(adjacencies, maxDimension, face, N, V):\n",
    "    if sorted(face) not in V:\n",
    "        V.append(sorted(face))\n",
    "    if len(face) >= maxDimension:\n",
    "        return\n",
    "    else:\n",
    "        for vertex in N:\n",
    "            coface = list(face)\n",
    "            coface.append(vertex)\n",
    "            M = list(set(N) & set(lower_neighbors(adjacencies, vertex)))\n",
    "            add_cofaces(adjacencies, maxDimension, coface, M, V)"
   ]
  },
  {
   "cell_type": "code",
   "execution_count": 40,
   "metadata": {},
   "outputs": [],
   "source": [
    "def incremental_vr(V, adjacencies, maxDimension):\n",
    "    Vnew = list(V)\n",
    "    for vertex in np.arange(len(adjacencies)):\n",
    "        N = sorted(lower_neighbors(adjacencies, vertex))\n",
    "        add_cofaces(adjacencies, maxDimension, [vertex], N, Vnew)\n",
    "    return Vnew"
   ]
  },
  {
   "cell_type": "code",
   "execution_count": 41,
   "metadata": {},
   "outputs": [],
   "source": [
    "def form_simplicial_complex(county_list):\n",
    "    maxDimension = 3\n",
    "    adjacencies = list(map(lambda m: m[1], county_list))\n",
    "    preferences = np.asarray(list(map(lambda m: float(m[2]), county_list)))\n",
    "\n",
    "    V = []\n",
    "\n",
    "    V = incremental_vr(V, adjacencies, maxDimension)\n",
    "\n",
    "    return V"
   ]
  },
  {
   "cell_type": "code",
   "execution_count": null,
   "metadata": {},
   "outputs": [],
   "source": []
  }
 ],
 "metadata": {
  "kernelspec": {
   "display_name": "TDA",
   "language": "python",
   "name": "python3"
  },
  "language_info": {
   "codemirror_mode": {
    "name": "ipython",
    "version": 3
   },
   "file_extension": ".py",
   "mimetype": "text/x-python",
   "name": "python",
   "nbconvert_exporter": "python",
   "pygments_lexer": "ipython3",
   "version": "3.11.4"
  }
 },
 "nbformat": 4,
 "nbformat_minor": 2
}
